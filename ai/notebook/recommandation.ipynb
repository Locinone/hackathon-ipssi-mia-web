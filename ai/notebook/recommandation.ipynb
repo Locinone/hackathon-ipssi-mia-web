{
 "cells": [
  {
   "cell_type": "code",
   "execution_count": 5,
   "metadata": {},
   "outputs": [],
   "source": [
    "import pandas as pd\n",
    "import random\n",
    "from datetime import datetime, timedelta"
   ]
  },
  {
   "cell_type": "code",
   "execution_count": 6,
   "metadata": {},
   "outputs": [],
   "source": [
    "# Définition des tweets et des catégories\n",
    "tweets = [\n",
    "    \"J'adore le football et la Ligue des Champions est incroyable ! #UCL #Football\",\n",
    "    \"Le Bitcoin a encore explosé cette semaine, faut-il investir ? #Crypto #BTC\",\n",
    "    \"Les voitures électriques vont dominer le marché automobile. #Tesla #EV\",\n",
    "    \"Quel est le meilleur téléphone en 2025 ? #Tech #Smartphone\",\n",
    "    \"L'intelligence artificielle est en train de révolutionner le monde. #AI #Tech\",\n",
    "    \"Netflix sort une nouvelle série demain, hâte de voir ça ! #Netflix #Streaming\",\n",
    "    \"Elon Musk vient d'annoncer une nouvelle mise à jour pour Tesla. #Tesla #Tech\",\n",
    "    \"La bourse est en chute libre aujourd'hui, inquiétant ! #Finance #Trading\",\n",
    "    \"Les montres connectées sont devenues un must-have en 2025. #Tech #Wearables\",\n",
    "    \"Quel est le top 10 des livres à lire absolument cette année ? #Books #Reading\",\n",
    "    \"neymar\"\n",
    "]\n",
    "\n",
    "categories = ['Sport', 'Finance', 'Tech', 'Tech', 'Tech',\n",
    "             'Entertainment', 'Tech', 'Finance', 'Tech', 'Culture']"
   ]
  },
  {
   "cell_type": "code",
   "execution_count": 7,
   "metadata": {},
   "outputs": [],
   "source": [
    "# Génération des données\n",
    "usernames = [f\"user_{i}\" for i in range(1, len(tweets) + 1)]\n",
    "retweets = [random.randint(10, 1000) for _ in range(len(tweets))]\n",
    "likes = [random.randint(50, 5000) for _ in range(len(tweets))]\n",
    "timestamps = [(datetime.now() - timedelta(days=random.randint(1, 365))).strftime(\"%Y-%m-%d %H:%M:%S\")\n",
    "             for _ in range(len(tweets))]"
   ]
  },
  {
   "cell_type": "code",
   "execution_count": 8,
   "metadata": {},
   "outputs": [],
   "source": [
    "# Création du DataFrame\n",
    "df_tweets = pd.DataFrame({\n",
    "    \"Tweet_ID\": range(1, len(tweets) + 1),\n",
    "    \"Username\": usernames,\n",
    "    \"Text\": tweets,\n",
    "    \"Category\": categories,\n",
    "    \"Retweets\": retweets,\n",
    "    \"Likes\": likes,\n",
    "    \"Timestamp\": timestamps\n",
    "})\n",
    "\n",
    "# Conversion de la colonne Timestamp en datetime\n",
    "df_tweets['Timestamp'] = pd.to_datetime(df_tweets['Timestamp'])"
   ]
  },
  {
   "cell_type": "code",
   "execution_count": 10,
   "metadata": {},
   "outputs": [
    {
     "name": "stdout",
     "output_type": "stream",
     "text": [
      "Dataset Fictif de Tweets :\n"
     ]
    },
    {
     "data": {
      "text/html": [
       "<div>\n",
       "<style scoped>\n",
       "    .dataframe tbody tr th:only-of-type {\n",
       "        vertical-align: middle;\n",
       "    }\n",
       "\n",
       "    .dataframe tbody tr th {\n",
       "        vertical-align: top;\n",
       "    }\n",
       "\n",
       "    .dataframe thead th {\n",
       "        text-align: right;\n",
       "    }\n",
       "</style>\n",
       "<table border=\"1\" class=\"dataframe\">\n",
       "  <thead>\n",
       "    <tr style=\"text-align: right;\">\n",
       "      <th></th>\n",
       "      <th>Tweet_ID</th>\n",
       "      <th>Username</th>\n",
       "      <th>Text</th>\n",
       "      <th>Category</th>\n",
       "      <th>Retweets</th>\n",
       "      <th>Likes</th>\n",
       "      <th>Timestamp</th>\n",
       "    </tr>\n",
       "  </thead>\n",
       "  <tbody>\n",
       "    <tr>\n",
       "      <th>0</th>\n",
       "      <td>1</td>\n",
       "      <td>user_1</td>\n",
       "      <td>J'adore le football et la Ligue des Champions ...</td>\n",
       "      <td>Sport</td>\n",
       "      <td>326</td>\n",
       "      <td>4291</td>\n",
       "      <td>2024-06-06 11:01:27</td>\n",
       "    </tr>\n",
       "    <tr>\n",
       "      <th>1</th>\n",
       "      <td>2</td>\n",
       "      <td>user_2</td>\n",
       "      <td>Le Bitcoin a encore explosé cette semaine, fau...</td>\n",
       "      <td>Finance</td>\n",
       "      <td>158</td>\n",
       "      <td>2157</td>\n",
       "      <td>2025-02-25 11:01:27</td>\n",
       "    </tr>\n",
       "    <tr>\n",
       "      <th>2</th>\n",
       "      <td>3</td>\n",
       "      <td>user_3</td>\n",
       "      <td>Les voitures électriques vont dominer le march...</td>\n",
       "      <td>Tech</td>\n",
       "      <td>121</td>\n",
       "      <td>4066</td>\n",
       "      <td>2024-03-30 11:01:27</td>\n",
       "    </tr>\n",
       "    <tr>\n",
       "      <th>3</th>\n",
       "      <td>4</td>\n",
       "      <td>user_4</td>\n",
       "      <td>Quel est le meilleur téléphone en 2025 ? #Tech...</td>\n",
       "      <td>Tech</td>\n",
       "      <td>73</td>\n",
       "      <td>3056</td>\n",
       "      <td>2024-05-23 11:01:27</td>\n",
       "    </tr>\n",
       "    <tr>\n",
       "      <th>4</th>\n",
       "      <td>5</td>\n",
       "      <td>user_5</td>\n",
       "      <td>L'intelligence artificielle est en train de ré...</td>\n",
       "      <td>Tech</td>\n",
       "      <td>656</td>\n",
       "      <td>592</td>\n",
       "      <td>2024-09-29 11:01:27</td>\n",
       "    </tr>\n",
       "    <tr>\n",
       "      <th>5</th>\n",
       "      <td>6</td>\n",
       "      <td>user_6</td>\n",
       "      <td>Netflix sort une nouvelle série demain, hâte d...</td>\n",
       "      <td>Entertainment</td>\n",
       "      <td>745</td>\n",
       "      <td>3139</td>\n",
       "      <td>2024-05-30 11:01:27</td>\n",
       "    </tr>\n",
       "    <tr>\n",
       "      <th>6</th>\n",
       "      <td>7</td>\n",
       "      <td>user_7</td>\n",
       "      <td>Elon Musk vient d'annoncer une nouvelle mise à...</td>\n",
       "      <td>Tech</td>\n",
       "      <td>885</td>\n",
       "      <td>4330</td>\n",
       "      <td>2024-09-22 11:01:27</td>\n",
       "    </tr>\n",
       "    <tr>\n",
       "      <th>7</th>\n",
       "      <td>8</td>\n",
       "      <td>user_8</td>\n",
       "      <td>La bourse est en chute libre aujourd'hui, inqu...</td>\n",
       "      <td>Finance</td>\n",
       "      <td>685</td>\n",
       "      <td>1285</td>\n",
       "      <td>2025-02-14 11:01:27</td>\n",
       "    </tr>\n",
       "    <tr>\n",
       "      <th>8</th>\n",
       "      <td>9</td>\n",
       "      <td>user_9</td>\n",
       "      <td>Les montres connectées sont devenues un must-h...</td>\n",
       "      <td>Tech</td>\n",
       "      <td>731</td>\n",
       "      <td>656</td>\n",
       "      <td>2024-12-20 11:01:27</td>\n",
       "    </tr>\n",
       "    <tr>\n",
       "      <th>9</th>\n",
       "      <td>10</td>\n",
       "      <td>user_10</td>\n",
       "      <td>Quel est le top 10 des livres à lire absolumen...</td>\n",
       "      <td>Culture</td>\n",
       "      <td>116</td>\n",
       "      <td>253</td>\n",
       "      <td>2024-08-31 11:01:27</td>\n",
       "    </tr>\n",
       "  </tbody>\n",
       "</table>\n",
       "</div>"
      ],
      "text/plain": [
       "   Tweet_ID Username                                               Text  \\\n",
       "0         1   user_1  J'adore le football et la Ligue des Champions ...   \n",
       "1         2   user_2  Le Bitcoin a encore explosé cette semaine, fau...   \n",
       "2         3   user_3  Les voitures électriques vont dominer le march...   \n",
       "3         4   user_4  Quel est le meilleur téléphone en 2025 ? #Tech...   \n",
       "4         5   user_5  L'intelligence artificielle est en train de ré...   \n",
       "5         6   user_6  Netflix sort une nouvelle série demain, hâte d...   \n",
       "6         7   user_7  Elon Musk vient d'annoncer une nouvelle mise à...   \n",
       "7         8   user_8  La bourse est en chute libre aujourd'hui, inqu...   \n",
       "8         9   user_9  Les montres connectées sont devenues un must-h...   \n",
       "9        10  user_10  Quel est le top 10 des livres à lire absolumen...   \n",
       "\n",
       "        Category  Retweets  Likes           Timestamp  \n",
       "0          Sport       326   4291 2024-06-06 11:01:27  \n",
       "1        Finance       158   2157 2025-02-25 11:01:27  \n",
       "2           Tech       121   4066 2024-03-30 11:01:27  \n",
       "3           Tech        73   3056 2024-05-23 11:01:27  \n",
       "4           Tech       656    592 2024-09-29 11:01:27  \n",
       "5  Entertainment       745   3139 2024-05-30 11:01:27  \n",
       "6           Tech       885   4330 2024-09-22 11:01:27  \n",
       "7        Finance       685   1285 2025-02-14 11:01:27  \n",
       "8           Tech       731    656 2024-12-20 11:01:27  \n",
       "9        Culture       116    253 2024-08-31 11:01:27  "
      ]
     },
     "metadata": {},
     "output_type": "display_data"
    }
   ],
   "source": [
    "# Pour afficher toutes les lignes\n",
    "pd.set_option('display.max_rows', None)\n",
    "print(\"Dataset Fictif de Tweets :\")\n",
    "display(df_tweets)"
   ]
  },
  {
   "cell_type": "code",
   "execution_count": 11,
   "metadata": {},
   "outputs": [],
   "source": [
    "df_tweets.to_csv('tweets_dataset.csv', index=False)"
   ]
  },
  {
   "cell_type": "markdown",
   "metadata": {},
   "source": [
    "# Pretraitement des données"
   ]
  },
  {
   "cell_type": "code",
   "execution_count": null,
   "metadata": {},
   "outputs": [
    {
     "name": "stdout",
     "output_type": "stream",
     "text": [
      "Collecting emoji\n",
      "  Downloading emoji-2.14.1-py3-none-any.whl (590 kB)\n",
      "\u001b[K     |████████████████████████████████| 590 kB 8.1 MB/s eta 0:00:01\n",
      "\u001b[?25hInstalling collected packages: emoji\n",
      "Successfully installed emoji-2.14.1\n",
      "Note: you may need to restart the kernel to use updated packages.\n"
     ]
    }
   ],
   "source": [
    "# Import des bibliothèques nécessaires\n",
    "%pip install emoji\n",
    "import re\n",
    "import nltk\n",
    "from nltk.tokenize import word_tokenize\n",
    "from nltk.corpus import stopwords\n",
    "from nltk.stem import WordNetLemmatizer\n",
    "from emoji import demojize"
   ]
  },
  {
   "cell_type": "code",
   "execution_count": 14,
   "metadata": {},
   "outputs": [
    {
     "name": "stderr",
     "output_type": "stream",
     "text": [
      "[nltk_data] Downloading package punkt to\n",
      "[nltk_data]     /Users/barrysalam/nltk_data...\n",
      "[nltk_data]   Package punkt is already up-to-date!\n",
      "[nltk_data] Downloading package stopwords to\n",
      "[nltk_data]     /Users/barrysalam/nltk_data...\n",
      "[nltk_data]   Package stopwords is already up-to-date!\n",
      "[nltk_data] Downloading package wordnet to\n",
      "[nltk_data]     /Users/barrysalam/nltk_data...\n",
      "[nltk_data]   Package wordnet is already up-to-date!\n",
      "[nltk_data] Downloading package omw-1.4 to\n",
      "[nltk_data]     /Users/barrysalam/nltk_data...\n"
     ]
    }
   ],
   "source": [
    "# Cellule 2 : Téléchargement des ressources NLTK\n",
    "nltk.download('punkt')\n",
    "nltk.download('stopwords')\n",
    "nltk.download('wordnet')\n",
    "nltk.download('omw-1.4')\n",
    "\n",
    "# Initialisation des outils\n",
    "lemmatizer = WordNetLemmatizer()\n",
    "stop_words = set(stopwords.words('french'))"
   ]
  },
  {
   "cell_type": "code",
   "execution_count": 15,
   "metadata": {},
   "outputs": [],
   "source": [
    "\n",
    "def preprocess_tweet(text):\n",
    "    \"\"\"\n",
    "    Fonction de prétraitement des tweets\n",
    "    \"\"\"\n",
    "    # Conversion en minuscules\n",
    "    text = text.lower()\n",
    "\n",
    "    # Suppression des URLs\n",
    "    text = re.sub(r'http\\S+|www\\S+|https\\S+', '', text)\n",
    "\n",
    "    # Suppression des mentions (@username)\n",
    "    text = re.sub(r'@\\w+', '', text)\n",
    "\n",
    "    # Suppression des hashtags\n",
    "    text = re.sub(r'#\\w+', '', text)\n",
    "\n",
    "    # Suppression des emojis\n",
    "    text = demojize(text)\n",
    "    text = re.sub(r':[a-zA-Z_]+:', '', text)\n",
    "\n",
    "    # Suppression des caractères spéciaux et des chiffres\n",
    "    text = re.sub(r'[^\\w\\s]', '', text)\n",
    "    text = re.sub(r'\\d+', '', text)\n",
    "\n",
    "    # Tokenization\n",
    "    tokens = word_tokenize(text)\n",
    "\n",
    "    # Suppression des stop words et lemmatisation\n",
    "    tokens = [lemmatizer.lemmatize(token) for token in tokens if token not in stop_words]\n",
    "\n",
    "    # Rejoindre les tokens en une chaîne\n",
    "    return ' '.join(tokens)"
   ]
  },
  {
   "cell_type": "code",
   "execution_count": 16,
   "metadata": {},
   "outputs": [],
   "source": [
    "df_tweets['Text_Clean'] = df_tweets['Text'].apply(preprocess_tweet)"
   ]
  },
  {
   "cell_type": "code",
   "execution_count": 17,
   "metadata": {},
   "outputs": [
    {
     "name": "stdout",
     "output_type": "stream",
     "text": [
      "Comparaison des tweets avant/après prétraitement :\n",
      "\n",
      "Original : J'adore le football et la Ligue des Champions est incroyable ! #UCL #Football\n",
      "Nettoyé  : jadore football ligue champion incroyable\n",
      "\n",
      "Original : Le Bitcoin a encore explosé cette semaine, faut-il investir ? #Crypto #BTC\n",
      "Nettoyé  : bitcoin a encore explosé cette semaine fautil investir\n",
      "\n",
      "Original : Les voitures électriques vont dominer le marché automobile. #Tesla #EV\n",
      "Nettoyé  : voitures électriques vont dominer marché automobile\n",
      "\n",
      "Original : Quel est le meilleur téléphone en 2025 ? #Tech #Smartphone\n",
      "Nettoyé  : quel meilleur téléphone\n",
      "\n",
      "Original : L'intelligence artificielle est en train de révolutionner le monde. #AI #Tech\n",
      "Nettoyé  : lintelligence artificielle train révolutionner monde\n"
     ]
    }
   ],
   "source": [
    "print(\"Comparaison des tweets avant/après prétraitement :\")\n",
    "for original, cleaned in zip(df_tweets['Text'].head(), df_tweets['Text_Clean'].head()):\n",
    "    print(\"\\nOriginal :\", original)\n",
    "    print(\"Nettoyé  :\", cleaned)"
   ]
  },
  {
   "cell_type": "code",
   "execution_count": 18,
   "metadata": {},
   "outputs": [],
   "source": [
    "# Sauvegarde du dataset prétraité\n",
    "df_tweets.to_csv('tweets_dataset_preprocessed.csv', index=False)"
   ]
  },
  {
   "cell_type": "code",
   "execution_count": 21,
   "metadata": {},
   "outputs": [],
   "source": [
    "# Cellule 1 : Import des bibliothèques nécessaires\n",
    "from sklearn.feature_extraction.text import TfidfVectorizer\n",
    "from sklearn.cluster import KMeans\n",
    "import matplotlib.pyplot as plt"
   ]
  },
  {
   "cell_type": "code",
   "execution_count": 22,
   "metadata": {},
   "outputs": [
    {
     "name": "stdout",
     "output_type": "stream",
     "text": [
      "Dimensions de la matrice TF-IDF : (10, 55)\n"
     ]
    }
   ],
   "source": [
    "# Cellule 2 : Vectorisation TF-IDF simplifiée\n",
    "vectorizer = TfidfVectorizer()\n",
    "X = vectorizer.fit_transform(df_tweets['Text_Clean'])\n",
    "\n",
    "print(\"Dimensions de la matrice TF-IDF :\", X.shape)"
   ]
  },
  {
   "cell_type": "code",
   "execution_count": 23,
   "metadata": {},
   "outputs": [
    {
     "name": "stdout",
     "output_type": "stream",
     "text": [
      "\n",
      "Cluster 0:\n",
      "Nombre de tweets : 1\n",
      "Catégories dans ce cluster:\n",
      "Sport    1\n",
      "Name: Category, dtype: int64\n",
      "\n",
      "Exemples de tweets:\n",
      "J'adore le football et la Ligue des Champions est incroyable ! #UCL #Football\n",
      "\n",
      "Cluster 1:\n",
      "Nombre de tweets : 5\n",
      "Catégories dans ce cluster:\n",
      "Tech       3\n",
      "Finance    2\n",
      "Name: Category, dtype: int64\n",
      "\n",
      "Exemples de tweets:\n",
      "Le Bitcoin a encore explosé cette semaine, faut-il investir ? #Crypto #BTC\n",
      "\n",
      "Cluster 2:\n",
      "Nombre de tweets : 2\n",
      "Catégories dans ce cluster:\n",
      "Tech       1\n",
      "Culture    1\n",
      "Name: Category, dtype: int64\n",
      "\n",
      "Exemples de tweets:\n",
      "Quel est le meilleur téléphone en 2025 ? #Tech #Smartphone\n",
      "\n",
      "Cluster 3:\n",
      "Nombre de tweets : 2\n",
      "Catégories dans ce cluster:\n",
      "Entertainment    1\n",
      "Tech             1\n",
      "Name: Category, dtype: int64\n",
      "\n",
      "Exemples de tweets:\n",
      "Netflix sort une nouvelle série demain, hâte de voir ça ! #Netflix #Streaming\n"
     ]
    }
   ],
   "source": [
    "# Cellule 3 : K-means avec 4 clusters (nombre choisi en fonction des catégories)\n",
    "kmeans = KMeans(n_clusters=4, random_state=42)\n",
    "df_tweets['Cluster'] = kmeans.fit_predict(X)\n",
    "\n",
    "# Affichage des résultats par cluster\n",
    "for cluster in range(4):\n",
    "    print(f\"\\nCluster {cluster}:\")\n",
    "    cluster_tweets = df_tweets[df_tweets['Cluster'] == cluster]\n",
    "    print(f\"Nombre de tweets : {len(cluster_tweets)}\")\n",
    "    print(\"Catégories dans ce cluster:\")\n",
    "    print(cluster_tweets['Category'].value_counts())\n",
    "    print(\"\\nExemples de tweets:\")\n",
    "    print(cluster_tweets['Text'].iloc[0])  # Affiche le premier tweet du cluster"
   ]
  },
  {
   "cell_type": "code",
   "execution_count": 24,
   "metadata": {},
   "outputs": [
    {
     "data": {
      "image/png": "[encoded data removed]",
      "text/plain": [
       "<Figure size 720x432 with 1 Axes>"
      ]
     },
     "metadata": {
      "needs_background": "light"
     },
     "output_type": "display_data"
    }
   ],
   "source": [
    "# Visualisation simple des clusters\n",
    "plt.figure(figsize=(10, 6))\n",
    "for cluster in range(4):\n",
    "    cluster_data = df_tweets[df_tweets['Cluster'] == cluster]\n",
    "    plt.scatter(cluster_data['Likes'], cluster_data['Retweets'],\n",
    "               label=f'Cluster {cluster}')\n",
    "\n",
    "plt.xlabel('Likes')\n",
    "plt.ylabel('Retweets')\n",
    "plt.title('Clusters de Tweets selon les Likes et Retweets')\n",
    "plt.legend()\n",
    "plt.show()"
   ]
  },
  {
   "cell_type": "code",
   "execution_count": null,
   "metadata": {},
   "outputs": [],
   "source": []
  }
 ],
 "metadata": {
  "kernelspec": {
   "display_name": "base",
   "language": "python",
   "name": "python3"
  },
  "language_info": {
   "codemirror_mode": {
    "name": "ipython",
    "version": 3
   },
   "file_extension": ".py",
   "mimetype": "text/x-python",
   "name": "python",
   "nbconvert_exporter": "python",
   "pygments_lexer": "ipython3",
   "version": "3.9.7"
  }
 },
 "nbformat": 4,
 "nbformat_minor": 2
}
